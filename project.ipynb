{
  "nbformat": 4,
  "nbformat_minor": 0,
  "metadata": {
    "colab": {
      "name": "project.ipynb",
      "provenance": [],
      "collapsed_sections": [],
      "machine_shape": "hm",
      "authorship_tag": "ABX9TyNpIIL2cy7muyHNT6cnaVox",
      "include_colab_link": true
    },
    "kernelspec": {
      "name": "python3",
      "display_name": "Python 3"
    }
  },
  "cells": [
    {
      "cell_type": "markdown",
      "metadata": {
        "id": "view-in-github",
        "colab_type": "text"
      },
      "source": [
        "<a href=\"https://colab.research.google.com/github/codedraco/DS-Training-Project/blob/master/project.ipynb\" target=\"_parent\"><img src=\"https://colab.research.google.com/assets/colab-badge.svg\" alt=\"Open In Colab\"/></a>"
      ]
    },
    {
      "cell_type": "code",
      "metadata": {
        "id": "B7BvWPRxAs_z",
        "colab_type": "code",
        "colab": {
          "base_uri": "https://localhost:8080/",
          "height": 121
        },
        "outputId": "6bf07839-48d6-41e3-a4ec-8269f6b99f7e"
      },
      "source": [
        "from google.colab import drive\n",
        "drive.mount('/content/gdrive')"
      ],
      "execution_count": null,
      "outputs": [
        {
          "output_type": "stream",
          "text": [
            "Go to this URL in a browser: https://accounts.google.com/o/oauth2/auth?client_id=947318989803-6bn6qk8qdgf4n4g3pfee6491hc0brc4i.apps.googleusercontent.com&redirect_uri=urn%3aietf%3awg%3aoauth%3a2.0%3aoob&response_type=code&scope=email%20https%3a%2f%2fwww.googleapis.com%2fauth%2fdocs.test%20https%3a%2f%2fwww.googleapis.com%2fauth%2fdrive%20https%3a%2f%2fwww.googleapis.com%2fauth%2fdrive.photos.readonly%20https%3a%2f%2fwww.googleapis.com%2fauth%2fpeopleapi.readonly\n",
            "\n",
            "Enter your authorization code:\n",
            "··········\n",
            "Mounted at /content/gdrive\n"
          ],
          "name": "stdout"
        }
      ]
    },
    {
      "cell_type": "markdown",
      "metadata": {
        "id": "WZQfjruTBvX9",
        "colab_type": "text"
      },
      "source": [
        "## Import Pandas Library and numpy library"
      ]
    },
    {
      "cell_type": "code",
      "metadata": {
        "id": "IyV9g5bH_kgv",
        "colab_type": "code",
        "colab": {}
      },
      "source": [
        "import pandas as pd\n",
        "import numpy as np"
      ],
      "execution_count": null,
      "outputs": []
    },
    {
      "cell_type": "code",
      "metadata": {
        "id": "8gu4OjevALHQ",
        "colab_type": "code",
        "colab": {
          "base_uri": "https://localhost:8080/",
          "height": 195
        },
        "outputId": "ee48767a-de96-4654-fcd9-a00e2f5b87ff"
      },
      "source": [
        "df = pd.read_csv('/content/gdrive/My Drive/GLA/diabetes.csv')\n",
        "\n",
        "df.head()"
      ],
      "execution_count": null,
      "outputs": [
        {
          "output_type": "execute_result",
          "data": {
            "text/html": [
              "<div>\n",
              "<style scoped>\n",
              "    .dataframe tbody tr th:only-of-type {\n",
              "        vertical-align: middle;\n",
              "    }\n",
              "\n",
              "    .dataframe tbody tr th {\n",
              "        vertical-align: top;\n",
              "    }\n",
              "\n",
              "    .dataframe thead th {\n",
              "        text-align: right;\n",
              "    }\n",
              "</style>\n",
              "<table border=\"1\" class=\"dataframe\">\n",
              "  <thead>\n",
              "    <tr style=\"text-align: right;\">\n",
              "      <th></th>\n",
              "      <th>Pregnancies</th>\n",
              "      <th>Glucose</th>\n",
              "      <th>BloodPressure</th>\n",
              "      <th>SkinThickness</th>\n",
              "      <th>Insulin</th>\n",
              "      <th>BMI</th>\n",
              "      <th>DiabetesPedigreeFunction</th>\n",
              "      <th>Age</th>\n",
              "      <th>Outcome</th>\n",
              "    </tr>\n",
              "  </thead>\n",
              "  <tbody>\n",
              "    <tr>\n",
              "      <th>0</th>\n",
              "      <td>6</td>\n",
              "      <td>148</td>\n",
              "      <td>72</td>\n",
              "      <td>35</td>\n",
              "      <td>0</td>\n",
              "      <td>33.6</td>\n",
              "      <td>0.627</td>\n",
              "      <td>50</td>\n",
              "      <td>1</td>\n",
              "    </tr>\n",
              "    <tr>\n",
              "      <th>1</th>\n",
              "      <td>1</td>\n",
              "      <td>85</td>\n",
              "      <td>66</td>\n",
              "      <td>29</td>\n",
              "      <td>0</td>\n",
              "      <td>26.6</td>\n",
              "      <td>0.351</td>\n",
              "      <td>31</td>\n",
              "      <td>0</td>\n",
              "    </tr>\n",
              "    <tr>\n",
              "      <th>2</th>\n",
              "      <td>8</td>\n",
              "      <td>183</td>\n",
              "      <td>64</td>\n",
              "      <td>0</td>\n",
              "      <td>0</td>\n",
              "      <td>23.3</td>\n",
              "      <td>0.672</td>\n",
              "      <td>32</td>\n",
              "      <td>1</td>\n",
              "    </tr>\n",
              "    <tr>\n",
              "      <th>3</th>\n",
              "      <td>1</td>\n",
              "      <td>89</td>\n",
              "      <td>66</td>\n",
              "      <td>23</td>\n",
              "      <td>94</td>\n",
              "      <td>28.1</td>\n",
              "      <td>0.167</td>\n",
              "      <td>21</td>\n",
              "      <td>0</td>\n",
              "    </tr>\n",
              "    <tr>\n",
              "      <th>4</th>\n",
              "      <td>0</td>\n",
              "      <td>137</td>\n",
              "      <td>40</td>\n",
              "      <td>35</td>\n",
              "      <td>168</td>\n",
              "      <td>43.1</td>\n",
              "      <td>2.288</td>\n",
              "      <td>33</td>\n",
              "      <td>1</td>\n",
              "    </tr>\n",
              "  </tbody>\n",
              "</table>\n",
              "</div>"
            ],
            "text/plain": [
              "   Pregnancies  Glucose  BloodPressure  ...  DiabetesPedigreeFunction  Age  Outcome\n",
              "0            6      148             72  ...                     0.627   50        1\n",
              "1            1       85             66  ...                     0.351   31        0\n",
              "2            8      183             64  ...                     0.672   32        1\n",
              "3            1       89             66  ...                     0.167   21        0\n",
              "4            0      137             40  ...                     2.288   33        1\n",
              "\n",
              "[5 rows x 9 columns]"
            ]
          },
          "metadata": {
            "tags": []
          },
          "execution_count": 5
        }
      ]
    },
    {
      "cell_type": "code",
      "metadata": {
        "id": "v2vZVVhXGny_",
        "colab_type": "code",
        "colab": {}
      },
      "source": [
        ""
      ],
      "execution_count": null,
      "outputs": []
    },
    {
      "cell_type": "markdown",
      "metadata": {
        "id": "t3jMfwJcCQB7",
        "colab_type": "text"
      },
      "source": [
        "finding correlation between attributes"
      ]
    },
    {
      "cell_type": "code",
      "metadata": {
        "id": "QkmeDrksCFkb",
        "colab_type": "code",
        "colab": {
          "base_uri": "https://localhost:8080/",
          "height": 314
        },
        "outputId": "1ea44003-8308-4a0a-ed71-7b1b79f7b369"
      },
      "source": [
        "df.corr()"
      ],
      "execution_count": null,
      "outputs": [
        {
          "output_type": "execute_result",
          "data": {
            "text/html": [
              "<div>\n",
              "<style scoped>\n",
              "    .dataframe tbody tr th:only-of-type {\n",
              "        vertical-align: middle;\n",
              "    }\n",
              "\n",
              "    .dataframe tbody tr th {\n",
              "        vertical-align: top;\n",
              "    }\n",
              "\n",
              "    .dataframe thead th {\n",
              "        text-align: right;\n",
              "    }\n",
              "</style>\n",
              "<table border=\"1\" class=\"dataframe\">\n",
              "  <thead>\n",
              "    <tr style=\"text-align: right;\">\n",
              "      <th></th>\n",
              "      <th>Pregnancies</th>\n",
              "      <th>Glucose</th>\n",
              "      <th>BloodPressure</th>\n",
              "      <th>SkinThickness</th>\n",
              "      <th>Insulin</th>\n",
              "      <th>BMI</th>\n",
              "      <th>DiabetesPedigreeFunction</th>\n",
              "      <th>Age</th>\n",
              "      <th>Outcome</th>\n",
              "    </tr>\n",
              "  </thead>\n",
              "  <tbody>\n",
              "    <tr>\n",
              "      <th>Pregnancies</th>\n",
              "      <td>1.000000</td>\n",
              "      <td>0.129459</td>\n",
              "      <td>0.141282</td>\n",
              "      <td>-0.081672</td>\n",
              "      <td>-0.073535</td>\n",
              "      <td>0.017683</td>\n",
              "      <td>-0.033523</td>\n",
              "      <td>0.544341</td>\n",
              "      <td>0.221898</td>\n",
              "    </tr>\n",
              "    <tr>\n",
              "      <th>Glucose</th>\n",
              "      <td>0.129459</td>\n",
              "      <td>1.000000</td>\n",
              "      <td>0.152590</td>\n",
              "      <td>0.057328</td>\n",
              "      <td>0.331357</td>\n",
              "      <td>0.221071</td>\n",
              "      <td>0.137337</td>\n",
              "      <td>0.263514</td>\n",
              "      <td>0.466581</td>\n",
              "    </tr>\n",
              "    <tr>\n",
              "      <th>BloodPressure</th>\n",
              "      <td>0.141282</td>\n",
              "      <td>0.152590</td>\n",
              "      <td>1.000000</td>\n",
              "      <td>0.207371</td>\n",
              "      <td>0.088933</td>\n",
              "      <td>0.281805</td>\n",
              "      <td>0.041265</td>\n",
              "      <td>0.239528</td>\n",
              "      <td>0.065068</td>\n",
              "    </tr>\n",
              "    <tr>\n",
              "      <th>SkinThickness</th>\n",
              "      <td>-0.081672</td>\n",
              "      <td>0.057328</td>\n",
              "      <td>0.207371</td>\n",
              "      <td>1.000000</td>\n",
              "      <td>0.436783</td>\n",
              "      <td>0.392573</td>\n",
              "      <td>0.183928</td>\n",
              "      <td>-0.113970</td>\n",
              "      <td>0.074752</td>\n",
              "    </tr>\n",
              "    <tr>\n",
              "      <th>Insulin</th>\n",
              "      <td>-0.073535</td>\n",
              "      <td>0.331357</td>\n",
              "      <td>0.088933</td>\n",
              "      <td>0.436783</td>\n",
              "      <td>1.000000</td>\n",
              "      <td>0.197859</td>\n",
              "      <td>0.185071</td>\n",
              "      <td>-0.042163</td>\n",
              "      <td>0.130548</td>\n",
              "    </tr>\n",
              "    <tr>\n",
              "      <th>BMI</th>\n",
              "      <td>0.017683</td>\n",
              "      <td>0.221071</td>\n",
              "      <td>0.281805</td>\n",
              "      <td>0.392573</td>\n",
              "      <td>0.197859</td>\n",
              "      <td>1.000000</td>\n",
              "      <td>0.140647</td>\n",
              "      <td>0.036242</td>\n",
              "      <td>0.292695</td>\n",
              "    </tr>\n",
              "    <tr>\n",
              "      <th>DiabetesPedigreeFunction</th>\n",
              "      <td>-0.033523</td>\n",
              "      <td>0.137337</td>\n",
              "      <td>0.041265</td>\n",
              "      <td>0.183928</td>\n",
              "      <td>0.185071</td>\n",
              "      <td>0.140647</td>\n",
              "      <td>1.000000</td>\n",
              "      <td>0.033561</td>\n",
              "      <td>0.173844</td>\n",
              "    </tr>\n",
              "    <tr>\n",
              "      <th>Age</th>\n",
              "      <td>0.544341</td>\n",
              "      <td>0.263514</td>\n",
              "      <td>0.239528</td>\n",
              "      <td>-0.113970</td>\n",
              "      <td>-0.042163</td>\n",
              "      <td>0.036242</td>\n",
              "      <td>0.033561</td>\n",
              "      <td>1.000000</td>\n",
              "      <td>0.238356</td>\n",
              "    </tr>\n",
              "    <tr>\n",
              "      <th>Outcome</th>\n",
              "      <td>0.221898</td>\n",
              "      <td>0.466581</td>\n",
              "      <td>0.065068</td>\n",
              "      <td>0.074752</td>\n",
              "      <td>0.130548</td>\n",
              "      <td>0.292695</td>\n",
              "      <td>0.173844</td>\n",
              "      <td>0.238356</td>\n",
              "      <td>1.000000</td>\n",
              "    </tr>\n",
              "  </tbody>\n",
              "</table>\n",
              "</div>"
            ],
            "text/plain": [
              "                          Pregnancies   Glucose  ...       Age   Outcome\n",
              "Pregnancies                  1.000000  0.129459  ...  0.544341  0.221898\n",
              "Glucose                      0.129459  1.000000  ...  0.263514  0.466581\n",
              "BloodPressure                0.141282  0.152590  ...  0.239528  0.065068\n",
              "SkinThickness               -0.081672  0.057328  ... -0.113970  0.074752\n",
              "Insulin                     -0.073535  0.331357  ... -0.042163  0.130548\n",
              "BMI                          0.017683  0.221071  ...  0.036242  0.292695\n",
              "DiabetesPedigreeFunction    -0.033523  0.137337  ...  0.033561  0.173844\n",
              "Age                          0.544341  0.263514  ...  1.000000  0.238356\n",
              "Outcome                      0.221898  0.466581  ...  0.238356  1.000000\n",
              "\n",
              "[9 rows x 9 columns]"
            ]
          },
          "metadata": {
            "tags": []
          },
          "execution_count": 6
        }
      ]
    },
    {
      "cell_type": "markdown",
      "metadata": {
        "id": "FdZyD5mWNrGS",
        "colab_type": "text"
      },
      "source": [
        "Accesing the dataframe through iloc "
      ]
    },
    {
      "cell_type": "code",
      "metadata": {
        "id": "toWOxd4sNigl",
        "colab_type": "code",
        "colab": {
          "base_uri": "https://localhost:8080/",
          "height": 402
        },
        "outputId": "879e6d4d-5546-48fa-8231-e004b3eb90f0"
      },
      "source": [
        "df.iloc[:,0:3]"
      ],
      "execution_count": null,
      "outputs": [
        {
          "output_type": "execute_result",
          "data": {
            "text/html": [
              "<div>\n",
              "<style scoped>\n",
              "    .dataframe tbody tr th:only-of-type {\n",
              "        vertical-align: middle;\n",
              "    }\n",
              "\n",
              "    .dataframe tbody tr th {\n",
              "        vertical-align: top;\n",
              "    }\n",
              "\n",
              "    .dataframe thead th {\n",
              "        text-align: right;\n",
              "    }\n",
              "</style>\n",
              "<table border=\"1\" class=\"dataframe\">\n",
              "  <thead>\n",
              "    <tr style=\"text-align: right;\">\n",
              "      <th></th>\n",
              "      <th>Pregnancies</th>\n",
              "      <th>Glucose</th>\n",
              "      <th>BloodPressure</th>\n",
              "    </tr>\n",
              "  </thead>\n",
              "  <tbody>\n",
              "    <tr>\n",
              "      <th>0</th>\n",
              "      <td>6</td>\n",
              "      <td>148</td>\n",
              "      <td>72</td>\n",
              "    </tr>\n",
              "    <tr>\n",
              "      <th>1</th>\n",
              "      <td>1</td>\n",
              "      <td>85</td>\n",
              "      <td>66</td>\n",
              "    </tr>\n",
              "    <tr>\n",
              "      <th>2</th>\n",
              "      <td>8</td>\n",
              "      <td>183</td>\n",
              "      <td>64</td>\n",
              "    </tr>\n",
              "    <tr>\n",
              "      <th>3</th>\n",
              "      <td>1</td>\n",
              "      <td>89</td>\n",
              "      <td>66</td>\n",
              "    </tr>\n",
              "    <tr>\n",
              "      <th>4</th>\n",
              "      <td>0</td>\n",
              "      <td>137</td>\n",
              "      <td>40</td>\n",
              "    </tr>\n",
              "    <tr>\n",
              "      <th>...</th>\n",
              "      <td>...</td>\n",
              "      <td>...</td>\n",
              "      <td>...</td>\n",
              "    </tr>\n",
              "    <tr>\n",
              "      <th>763</th>\n",
              "      <td>10</td>\n",
              "      <td>101</td>\n",
              "      <td>76</td>\n",
              "    </tr>\n",
              "    <tr>\n",
              "      <th>764</th>\n",
              "      <td>2</td>\n",
              "      <td>122</td>\n",
              "      <td>70</td>\n",
              "    </tr>\n",
              "    <tr>\n",
              "      <th>765</th>\n",
              "      <td>5</td>\n",
              "      <td>121</td>\n",
              "      <td>72</td>\n",
              "    </tr>\n",
              "    <tr>\n",
              "      <th>766</th>\n",
              "      <td>1</td>\n",
              "      <td>126</td>\n",
              "      <td>60</td>\n",
              "    </tr>\n",
              "    <tr>\n",
              "      <th>767</th>\n",
              "      <td>1</td>\n",
              "      <td>93</td>\n",
              "      <td>70</td>\n",
              "    </tr>\n",
              "  </tbody>\n",
              "</table>\n",
              "<p>768 rows × 3 columns</p>\n",
              "</div>"
            ],
            "text/plain": [
              "     Pregnancies  Glucose  BloodPressure\n",
              "0              6      148             72\n",
              "1              1       85             66\n",
              "2              8      183             64\n",
              "3              1       89             66\n",
              "4              0      137             40\n",
              "..           ...      ...            ...\n",
              "763           10      101             76\n",
              "764            2      122             70\n",
              "765            5      121             72\n",
              "766            1      126             60\n",
              "767            1       93             70\n",
              "\n",
              "[768 rows x 3 columns]"
            ]
          },
          "metadata": {
            "tags": []
          },
          "execution_count": 81
        }
      ]
    },
    {
      "cell_type": "markdown",
      "metadata": {
        "id": "V7m2QT9-B_wu",
        "colab_type": "text"
      },
      "source": [
        "## Heat Map For Correlation"
      ]
    },
    {
      "cell_type": "code",
      "metadata": {
        "id": "uaeMYpIQAsab",
        "colab_type": "code",
        "colab": {
          "base_uri": "https://localhost:8080/",
          "height": 1000
        },
        "outputId": "c583616c-d443-47b6-8412-b1d0c9f12b9f"
      },
      "source": [
        "import matplotlib.pyplot as plt\n",
        "import seaborn as sns\n",
        "corr = df.corr()\n",
        "plt.subplots(figsize=(15,15))\n",
        "ax = sns.heatmap(corr, vmin=-1, vmax=1, center=0,cmap=sns.diverging_palette(20, 220, n=200),square=True)\n",
        "ax.set_xticklabels(ax.get_xticklabels(),rotation=45,horizontalalignment='right')"
      ],
      "execution_count": null,
      "outputs": [
        {
          "output_type": "stream",
          "text": [
            "/usr/local/lib/python3.6/dist-packages/statsmodels/tools/_testing.py:19: FutureWarning: pandas.util.testing is deprecated. Use the functions in the public API at pandas.testing instead.\n",
            "  import pandas.util.testing as tm\n"
          ],
          "name": "stderr"
        },
        {
          "output_type": "execute_result",
          "data": {
            "text/plain": [
              "[Text(0.5, 0, 'Pregnancies'),\n",
              " Text(1.5, 0, 'Glucose'),\n",
              " Text(2.5, 0, 'BloodPressure'),\n",
              " Text(3.5, 0, 'SkinThickness'),\n",
              " Text(4.5, 0, 'Insulin'),\n",
              " Text(5.5, 0, 'BMI'),\n",
              " Text(6.5, 0, 'DiabetesPedigreeFunction'),\n",
              " Text(7.5, 0, 'Age'),\n",
              " Text(8.5, 0, 'Outcome')]"
            ]
          },
          "metadata": {
            "tags": []
          },
          "execution_count": 7
        },
        {
          "output_type": "display_data",
          "data": {
            "image/png": "[encoded data removed]",
            "text/plain": [
              "<Figure size 1080x1080 with 2 Axes>"
            ]
          },
          "metadata": {
            "tags": [],
            "needs_background": "light"
          }
        }
      ]
    },
    {
      "cell_type": "markdown",
      "metadata": {
        "id": "gz3YjX2UCk73",
        "colab_type": "text"
      },
      "source": [
        "## Checking the null value if any null value is present"
      ]
    },
    {
      "cell_type": "code",
      "metadata": {
        "id": "NlD3bxIoBh9J",
        "colab_type": "code",
        "colab": {
          "base_uri": "https://localhost:8080/",
          "height": 185
        },
        "outputId": "73d61d2f-7ad8-4726-8522-917f488ce982"
      },
      "source": [
        "df.isnull().sum()"
      ],
      "execution_count": null,
      "outputs": [
        {
          "output_type": "execute_result",
          "data": {
            "text/plain": [
              "Pregnancies                 0\n",
              "Glucose                     0\n",
              "BloodPressure               0\n",
              "SkinThickness               0\n",
              "Insulin                     0\n",
              "BMI                         0\n",
              "DiabetesPedigreeFunction    0\n",
              "Age                         0\n",
              "Outcome                     0\n",
              "dtype: int64"
            ]
          },
          "metadata": {
            "tags": []
          },
          "execution_count": 8
        }
      ]
    },
    {
      "cell_type": "code",
      "metadata": {
        "id": "cqkdvb_-E6rq",
        "colab_type": "code",
        "colab": {
          "base_uri": "https://localhost:8080/",
          "height": 185
        },
        "outputId": "db08a430-18a8-4593-b860-378baadec67b"
      },
      "source": [
        "median_df = df.median()\n",
        "median_df"
      ],
      "execution_count": null,
      "outputs": [
        {
          "output_type": "execute_result",
          "data": {
            "text/plain": [
              "Pregnancies                   3.0000\n",
              "Glucose                     117.0000\n",
              "BloodPressure                72.0000\n",
              "SkinThickness                23.0000\n",
              "Insulin                      30.5000\n",
              "BMI                          32.0000\n",
              "DiabetesPedigreeFunction      0.3725\n",
              "Age                          29.0000\n",
              "Outcome                       0.0000\n",
              "dtype: float64"
            ]
          },
          "metadata": {
            "tags": []
          },
          "execution_count": 9
        }
      ]
    },
    {
      "cell_type": "markdown",
      "metadata": {
        "id": "3a4g3KRyE_W6",
        "colab_type": "text"
      },
      "source": [
        "Quartiles to check Outliers "
      ]
    },
    {
      "cell_type": "code",
      "metadata": {
        "id": "yAkEO5egCX6o",
        "colab_type": "code",
        "colab": {
          "base_uri": "https://localhost:8080/",
          "height": 84
        },
        "outputId": "e26fbfcf-f4cb-490a-bd80-6a3440433bf5"
      },
      "source": [
        "Q1 = df['Glucose'].quantile(0.25)\n",
        "Q2 = df['Glucose'].quantile(0.50)\n",
        "Q3 = df['Glucose'].quantile(0.75)\n",
        "Q4 = df['Glucose'].quantile(1)\n",
        "print(Q1)\n",
        "print(Q2)\n",
        "print(Q3)\n",
        "print(Q4)"
      ],
      "execution_count": null,
      "outputs": [
        {
          "output_type": "stream",
          "text": [
            "99.0\n",
            "117.0\n",
            "140.25\n",
            "199.0\n"
          ],
          "name": "stdout"
        }
      ]
    },
    {
      "cell_type": "markdown",
      "metadata": {
        "id": "PZNcRLZkFM6k",
        "colab_type": "text"
      },
      "source": [
        "From this observation we can see that entries in the fourth Quartile are Outliers"
      ]
    },
    {
      "cell_type": "code",
      "metadata": {
        "id": "tJC-QV58DbF-",
        "colab_type": "code",
        "colab": {}
      },
      "source": [
        "X = df.iloc[:,0:7].values\n",
        "y = df.iloc[:, 8].values\n"
      ],
      "execution_count": null,
      "outputs": []
    },
    {
      "cell_type": "markdown",
      "metadata": {
        "id": "E3VfncG0HNTS",
        "colab_type": "text"
      },
      "source": [
        "# Splitting the dataset into the Training set and Test set"
      ]
    },
    {
      "cell_type": "code",
      "metadata": {
        "id": "s-wNJtY5Dj6c",
        "colab_type": "code",
        "colab": {}
      },
      "source": [
        "from sklearn.model_selection import train_test_split \n",
        "X_train, X_test, y_train, y_test = train_test_split(X, y, test_size = 0.25, random_state = 0)"
      ],
      "execution_count": null,
      "outputs": []
    },
    {
      "cell_type": "code",
      "metadata": {
        "id": "w07yk66lI3O1",
        "colab_type": "code",
        "colab": {}
      },
      "source": [
        "# Feature Scaling\n",
        "from sklearn.preprocessing import StandardScaler \n",
        "sc = StandardScaler() \n",
        "X_train = sc.fit_transform(X_train)\n",
        "X_test = sc.transform(X_test)"
      ],
      "execution_count": null,
      "outputs": []
    },
    {
      "cell_type": "markdown",
      "metadata": {
        "id": "X7-wkE3yKmiA",
        "colab_type": "text"
      },
      "source": [
        "## Fitting the model and predicting model"
      ]
    },
    {
      "cell_type": "code",
      "metadata": {
        "id": "X4Z-WdoUDl7b",
        "colab_type": "code",
        "colab": {
          "base_uri": "https://localhost:8080/",
          "height": 101
        },
        "outputId": "81c5096d-5a0a-4048-9519-2f52bb705858"
      },
      "source": [
        "#from sklearn.ensemble import RandomForestClassifier, GradientBoostingClassifier\n",
        "from sklearn.linear_model import LogisticRegression\n",
        "#from sklearn.neural_network import MLPClassifier\n",
        "#from sklearn.svm import SVC\n",
        "#classifier = SVC(kernel ='linear', random_state = 13)\n",
        "#classifier = RandomForestClassifier(n_estimators = 50, criterion = 'entropy', random_state=13)\n",
        "#classifier = GradientBoostingClassifier(random_state=13)\n",
        "classifier = LogisticRegression(random_state=13)\n",
        "#classifier = MLPClassifier(random_state=13)\n",
        "classifier.fit(X_train, y_train)\n"
      ],
      "execution_count": null,
      "outputs": [
        {
          "output_type": "execute_result",
          "data": {
            "text/plain": [
              "LogisticRegression(C=1.0, class_weight=None, dual=False, fit_intercept=True,\n",
              "                   intercept_scaling=1, l1_ratio=None, max_iter=100,\n",
              "                   multi_class='auto', n_jobs=None, penalty='l2',\n",
              "                   random_state=13, solver='lbfgs', tol=0.0001, verbose=0,\n",
              "                   warm_start=False)"
            ]
          },
          "metadata": {
            "tags": []
          },
          "execution_count": 82
        }
      ]
    },
    {
      "cell_type": "code",
      "metadata": {
        "id": "RONhMkUKJs3b",
        "colab_type": "code",
        "colab": {
          "base_uri": "https://localhost:8080/",
          "height": 34
        },
        "outputId": "f0752a1a-ff19-4861-af64-cc80aaaea33e"
      },
      "source": [
        "y_pred = classifier.predict(X_test)\n",
        "classifier.score(X_test, y_test)"
      ],
      "execution_count": null,
      "outputs": [
        {
          "output_type": "execute_result",
          "data": {
            "text/plain": [
              "0.8020833333333334"
            ]
          },
          "metadata": {
            "tags": []
          },
          "execution_count": 83
        }
      ]
    },
    {
      "cell_type": "code",
      "metadata": {
        "id": "MmGz36MYKF-_",
        "colab_type": "code",
        "colab": {
          "base_uri": "https://localhost:8080/",
          "height": 118
        },
        "outputId": "7a6b349f-bd80-460b-ecf6-aae72d446d29"
      },
      "source": [
        "print(y_pred)"
      ],
      "execution_count": null,
      "outputs": [
        {
          "output_type": "stream",
          "text": [
            "[1 0 0 1 0 0 1 1 0 0 1 1 0 0 0 0 1 0 0 0 1 0 0 0 0 0 0 1 0 0 0 0 0 0 0 1 0\n",
            " 0 0 1 0 0 0 1 1 0 0 0 0 0 0 0 1 1 0 0 0 1 0 0 1 1 0 1 1 1 1 0 0 0 0 0 0 1\n",
            " 1 0 0 1 0 0 0 0 0 0 0 0 0 0 1 0 0 0 0 0 1 0 0 1 1 0 0 0 0 0 1 0 0 0 0 1 0\n",
            " 0 1 0 1 1 0 1 0 1 0 0 0 0 0 0 0 0 0 0 0 0 0 1 0 0 0 0 1 0 0 1 0 0 0 0 0 0\n",
            " 0 0 0 1 0 0 1 0 1 0 0 1 1 1 0 0 1 0 0 0 0 0 0 0 0 0 0 0 0 0 0 0 0 1 0 1 1\n",
            " 0 1 0 0 0 0 0]\n"
          ],
          "name": "stdout"
        }
      ]
    },
    {
      "cell_type": "code",
      "metadata": {
        "id": "hn9p2JQxKJZr",
        "colab_type": "code",
        "colab": {
          "base_uri": "https://localhost:8080/",
          "height": 118
        },
        "outputId": "71524545-cc88-4c33-bc49-5e306a39b2a5"
      },
      "source": [
        "print(y_test)"
      ],
      "execution_count": null,
      "outputs": [
        {
          "output_type": "stream",
          "text": [
            "[1 0 0 1 0 0 1 1 0 0 1 1 0 0 0 0 1 0 0 0 1 1 0 0 0 0 0 0 0 0 0 0 0 0 0 1 1\n",
            " 0 0 0 0 0 0 1 1 0 0 1 1 1 0 0 1 0 0 0 0 1 1 1 1 0 0 1 1 1 1 0 0 0 0 0 0 0\n",
            " 1 0 0 0 0 0 0 0 0 0 0 0 1 0 1 0 0 0 0 0 0 0 1 0 1 1 0 0 0 0 0 1 0 0 0 1 0\n",
            " 1 1 1 1 1 0 0 0 1 0 0 0 0 0 0 0 1 0 0 0 0 0 1 0 1 0 1 1 0 0 0 0 0 1 0 0 0\n",
            " 0 1 0 1 0 0 1 0 0 0 1 1 1 1 0 0 0 1 0 0 0 0 0 0 1 1 0 0 0 0 0 0 1 1 0 1 1\n",
            " 0 1 1 1 0 0 0]\n"
          ],
          "name": "stdout"
        }
      ]
    },
    {
      "cell_type": "code",
      "metadata": {
        "id": "z-FTELkKDn6L",
        "colab_type": "code",
        "colab": {
          "base_uri": "https://localhost:8080/",
          "height": 50
        },
        "outputId": "97578358-9cd3-4236-f326-e6309777340d"
      },
      "source": [
        "from sklearn.metrics import confusion_matrix\n",
        "cm=confusion_matrix(y_test, y_pred)\n",
        "cm"
      ],
      "execution_count": null,
      "outputs": [
        {
          "output_type": "execute_result",
          "data": {
            "text/plain": [
              "array([[117,  13],\n",
              "       [ 25,  37]])"
            ]
          },
          "metadata": {
            "tags": []
          },
          "execution_count": 86
        }
      ]
    },
    {
      "cell_type": "markdown",
      "metadata": {
        "id": "SmA8IE82Kr0v",
        "colab_type": "text"
      },
      "source": [
        "## Finding accuracy score"
      ]
    },
    {
      "cell_type": "code",
      "metadata": {
        "id": "OwJZn-OaKdG-",
        "colab_type": "code",
        "colab": {}
      },
      "source": [
        ""
      ],
      "execution_count": null,
      "outputs": []
    },
    {
      "cell_type": "code",
      "metadata": {
        "id": "1OrbEwRAMhrJ",
        "colab_type": "code",
        "colab": {
          "base_uri": "https://localhost:8080/",
          "height": 34
        },
        "outputId": "5471f59e-1a2d-4628-a671-b8f0cd0cff42"
      },
      "source": [
        "from sklearn.metrics import roc_auc_score\n",
        "probabilities = classifier.predict_proba(X_test)\n",
        "roc_auc_score(y_test, probabilities[:, 1])"
      ],
      "execution_count": null,
      "outputs": [
        {
          "output_type": "execute_result",
          "data": {
            "text/plain": [
              "0.8705955334987594"
            ]
          },
          "metadata": {
            "tags": []
          },
          "execution_count": 87
        }
      ]
    },
    {
      "cell_type": "markdown",
      "metadata": {
        "id": "aX8aOJLsM_pi",
        "colab_type": "text"
      },
      "source": [
        "## Precision means the percentage of your results which are relevant."
      ]
    },
    {
      "cell_type": "markdown",
      "metadata": {
        "id": "m2LLDZaONXp7",
        "colab_type": "text"
      },
      "source": [
        "![image.png](data:image/png;base64,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)"
      ]
    },
    {
      "cell_type": "code",
      "metadata": {
        "id": "P4EmGE8VMv36",
        "colab_type": "code",
        "colab": {
          "base_uri": "https://localhost:8080/",
          "height": 34
        },
        "outputId": "31f750de-4a6e-48d1-a5e2-17436d37f25b"
      },
      "source": [
        "from sklearn.metrics import precision_score\n",
        "\n",
        "train_predictions = classifier.predict(X_train)\n",
        "precision_score(y_train, train_predictions)"
      ],
      "execution_count": null,
      "outputs": [
        {
          "output_type": "execute_result",
          "data": {
            "text/plain": [
              "0.7278481012658228"
            ]
          },
          "metadata": {
            "tags": []
          },
          "execution_count": 88
        }
      ]
    },
    {
      "cell_type": "code",
      "metadata": {
        "id": "BNve2DylNGrR",
        "colab_type": "code",
        "colab": {
          "base_uri": "https://localhost:8080/",
          "height": 34
        },
        "outputId": "1652e343-adf6-4cef-8aaa-6b5eb2336743"
      },
      "source": [
        "from sklearn.metrics import recall_score\n",
        "\n",
        "recall_score(y_train, train_predictions)"
      ],
      "execution_count": null,
      "outputs": [
        {
          "output_type": "execute_result",
          "data": {
            "text/plain": [
              "0.558252427184466"
            ]
          },
          "metadata": {
            "tags": []
          },
          "execution_count": 89
        }
      ]
    },
    {
      "cell_type": "code",
      "metadata": {
        "id": "UU1Jvn2CNHLQ",
        "colab_type": "code",
        "colab": {
          "base_uri": "https://localhost:8080/",
          "height": 34
        },
        "outputId": "259b8979-681e-4846-98b7-c25bbdf6a66c"
      },
      "source": [
        "from sklearn import metrics\n",
        "metrics.accuracy_score(y_test,y_pred)"
      ],
      "execution_count": null,
      "outputs": [
        {
          "output_type": "execute_result",
          "data": {
            "text/plain": [
              "0.8020833333333334"
            ]
          },
          "metadata": {
            "tags": []
          },
          "execution_count": 90
        }
      ]
    },
    {
      "cell_type": "markdown",
      "metadata": {
        "id": "RMNtoLbQKwRZ",
        "colab_type": "text"
      },
      "source": [
        "## Visualising the prediction using Scatter plot"
      ]
    },
    {
      "cell_type": "code",
      "metadata": {
        "id": "AUhudsiwDprd",
        "colab_type": "code",
        "colab": {}
      },
      "source": [
        "from matplotlib.colors import ListedColormap\n",
        "X_set, y_set= X_train, y_train\n",
        "X1,X2 = np.meshgrid(np.arange(start =X_set[:, 0].min() -1,stop=X_set[:, 0].max()+1, step = 0.01),\n",
        "np.arange(start =X_set[:, 1].min() -1, stop=X_set[:, 1].max()+1,step =0.01))\n"
      ],
      "execution_count": null,
      "outputs": []
    },
    {
      "cell_type": "code",
      "metadata": {
        "id": "lcpz3ckREpC1",
        "colab_type": "code",
        "colab": {
          "base_uri": "https://localhost:8080/",
          "height": 349
        },
        "outputId": "bbb159b3-5eae-44d0-8b0b-b773b047412a"
      },
      "source": [
        "plt.xlim((X1.min(),X1.max()))\n",
        "plt.ylim((X2.min(),X2.max()))\n",
        "for i,j in enumerate(np.unique(y_set)):\n",
        "  plt.scatter(X_set[y_set==j,0], X_set[y_set==j,1], c=\n",
        "  ListedColormap(('red','blue'))(i) ,label= j)\n",
        "plt.title('SVM (Training set)')\n",
        "plt.xlabel('Independent Variables')\n",
        "plt.ylabel('Outcome')\n",
        "plt.legend() \n",
        "plt.show()"
      ],
      "execution_count": null,
      "outputs": [
        {
          "output_type": "stream",
          "text": [
            "'c' argument looks like a single numeric RGB or RGBA sequence, which should be avoided as value-mapping will have precedence in case its length matches with 'x' & 'y'.  Please use a 2-D array with a single row if you really want to specify the same RGB or RGBA value for all points.\n",
            "'c' argument looks like a single numeric RGB or RGBA sequence, which should be avoided as value-mapping will have precedence in case its length matches with 'x' & 'y'.  Please use a 2-D array with a single row if you really want to specify the same RGB or RGBA value for all points.\n"
          ],
          "name": "stderr"
        },
        {
          "output_type": "display_data",
          "data": {
            "image/png": "[encoded data removed]",
            "text/plain": [
              "<Figure size 432x288 with 1 Axes>"
            ]
          },
          "metadata": {
            "tags": [],
            "needs_background": "light"
          }
        }
      ]
    },
    {
      "cell_type": "code",
      "metadata": {
        "id": "v0exTrG9Etog",
        "colab_type": "code",
        "colab": {}
      },
      "source": [
        "from matplotlib.colors import ListedColormap\n",
        "X_set, y_set= X_test, y_test\n",
        "X1,X2 = np.meshgrid(np.arange(start =X_set[:, 0].min() -1,stop=X_set[:, 0].max()+1, step = 0.01),\n",
        "np.arange(start =X_set[:, 1].min() -1, stop=X_set[:, 1].max()+1,step =0.01))\n"
      ],
      "execution_count": null,
      "outputs": []
    },
    {
      "cell_type": "code",
      "metadata": {
        "id": "86zIRDeuLp7p",
        "colab_type": "code",
        "colab": {
          "base_uri": "https://localhost:8080/",
          "height": 349
        },
        "outputId": "b2ec0ebc-75bc-451b-a813-7b5f5af7bdcb"
      },
      "source": [
        "plt.xlim((X1.min(),X1.max()))\n",
        "plt.ylim((X2.min(),X2.max()))\n",
        "for i,j in enumerate(np.unique(y_set)):\n",
        "  plt.scatter(X_set[y_set==j,0], X_set[y_set==j,1], c=\n",
        "  ListedColormap(('red','blue'))(i) ,label= j)\n",
        "plt.title('SVM (Training set)')\n",
        "plt.xlabel('Independent Variables')\n",
        "plt.ylabel('Outcome')\n",
        "plt.legend() \n",
        "plt.show()"
      ],
      "execution_count": null,
      "outputs": [
        {
          "output_type": "stream",
          "text": [
            "'c' argument looks like a single numeric RGB or RGBA sequence, which should be avoided as value-mapping will have precedence in case its length matches with 'x' & 'y'.  Please use a 2-D array with a single row if you really want to specify the same RGB or RGBA value for all points.\n",
            "'c' argument looks like a single numeric RGB or RGBA sequence, which should be avoided as value-mapping will have precedence in case its length matches with 'x' & 'y'.  Please use a 2-D array with a single row if you really want to specify the same RGB or RGBA value for all points.\n"
          ],
          "name": "stderr"
        },
        {
          "output_type": "display_data",
          "data": {
            "image/png": "[encoded data removed]",
            "text/plain": [
              "<Figure size 432x288 with 1 Axes>"
            ]
          },
          "metadata": {
            "tags": [],
            "needs_background": "light"
          }
        }
      ]
    },
    {
      "cell_type": "code",
      "metadata": {
        "id": "cdhX-0LNLtFv",
        "colab_type": "code",
        "colab": {}
      },
      "source": [
        ""
      ],
      "execution_count": null,
      "outputs": []
    }
  ]
}